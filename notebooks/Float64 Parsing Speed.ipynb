{
 "cells": [
  {
   "cell_type": "code",
   "execution_count": 11,
   "metadata": {},
   "outputs": [],
   "source": [
    "x = rand(UInt8, 8 * 10);"
   ]
  },
  {
   "cell_type": "code",
   "execution_count": 12,
   "metadata": {},
   "outputs": [
    {
     "data": {
      "text/plain": [
       "f (generic function with 1 method)"
      ]
     },
     "execution_count": 12,
     "metadata": {},
     "output_type": "execute_result"
    }
   ],
   "source": [
    "f(a,b,c,d,e,f,g,h) = (UInt64(a) << 56) | (UInt64(b) << 48) | \n",
    "    (UInt64(c) << 40) | (UInt64(d) << 32) | \n",
    "    (UInt64(e) << 24) | (UInt64(f) << 16) | \n",
    "    (UInt64(g) << 8) | UInt64(h)"
   ]
  },
  {
   "cell_type": "code",
   "execution_count": 13,
   "metadata": {},
   "outputs": [
    {
     "data": {
      "text/plain": [
       "0x0b05bbe66617b931"
      ]
     },
     "execution_count": 13,
     "metadata": {},
     "output_type": "execute_result"
    }
   ],
   "source": [
    "f(x[1],x[2],x[3],x[4],x[5],x[6],x[7],x[8])"
   ]
  },
  {
   "cell_type": "code",
   "execution_count": 15,
   "metadata": {},
   "outputs": [
    {
     "data": {
      "text/plain": [
       "1×8 RowVector{UInt8,Array{UInt8,1}}:\n",
       " 0x0b  0x05  0xbb  0xe6  0x66  0x17  0xb9  0x31"
      ]
     },
     "execution_count": 15,
     "metadata": {},
     "output_type": "execute_result"
    }
   ],
   "source": [
    "x[1:8]'"
   ]
  },
  {
   "cell_type": "code",
   "execution_count": 16,
   "metadata": {},
   "outputs": [
    {
     "data": {
      "text/plain": [
       "10-element Array{UInt64,1}:\n",
       " 0x0b05bbe66617b931\n",
       " 0xafb8d712044e7181\n",
       " 0xdb0ffeb14b74c011\n",
       " 0x7fa438ef45da8f3e\n",
       " 0x28a8bdced1256314\n",
       " 0x0f1d1c0cdbbefc70\n",
       " 0xf51764e4a58656da\n",
       " 0x891ec8f6c47b5943\n",
       " 0x8583083c706b5759\n",
       " 0x7470306da327d5f5"
      ]
     },
     "execution_count": 16,
     "metadata": {},
     "output_type": "execute_result"
    }
   ],
   "source": [
    "f.(x[1:8:end],x[2:8:end],x[3:8:end],x[4:8:end],\n",
    "    x[5:8:end], x[6:8:end], x[7:8:end], x[8:8:end])"
   ]
  },
  {
   "cell_type": "code",
   "execution_count": 17,
   "metadata": {
    "collapsed": true
   },
   "outputs": [],
   "source": [
    "N = 10000\n",
    "x = rand(UInt8, 8 * N);"
   ]
  },
  {
   "cell_type": "code",
   "execution_count": 18,
   "metadata": {},
   "outputs": [
    {
     "data": {
      "text/plain": [
       "80000"
      ]
     },
     "execution_count": 18,
     "metadata": {},
     "output_type": "execute_result"
    }
   ],
   "source": [
    "length(x)"
   ]
  },
  {
   "cell_type": "code",
   "execution_count": 37,
   "metadata": {},
   "outputs": [
    {
     "data": {
      "text/plain": [
       "1×8 RowVector{UInt8,Array{UInt8,1}}:\n",
       " 0xc9  0xac  0xb8  0x31  0x44  0xfc  0xd2  0xcd"
      ]
     },
     "metadata": {},
     "output_type": "display_data"
    },
    {
     "data": {
      "text/plain": [
       "1×8 RowVector{UInt8,Array{UInt8,1}}:\n",
       " 0xf2  0x77  0xb9  0x60  0xfc  0x3f  0x0c  0x07"
      ]
     },
     "metadata": {},
     "output_type": "display_data"
    }
   ],
   "source": [
    "display(x[1:8]')\n",
    "display(x[end-7:end]')"
   ]
  },
  {
   "cell_type": "code",
   "execution_count": 19,
   "metadata": {
    "collapsed": true
   },
   "outputs": [],
   "source": [
    "using BenchmarkTools"
   ]
  },
  {
   "cell_type": "code",
   "execution_count": 34,
   "metadata": {},
   "outputs": [
    {
     "name": "stdout",
     "output_type": "stream",
     "text": [
      "  230.551 μs (157 allocations: 161.95 KiB)\n"
     ]
    },
    {
     "data": {
      "text/plain": [
       "10000-element Array{UInt64,1}:\n",
       " 0xc9acb83144fcd2cd\n",
       " 0xc4f42255e8d20df7\n",
       " 0xec5f8c5d48dc1a26\n",
       " 0x0e31627649247cfb\n",
       " 0x9cf26cd769fc0efa\n",
       " 0x8e9ee322db7c3149\n",
       " 0x05f29fc6c487d387\n",
       " 0x94d59f0518fe00cd\n",
       " 0x41049aad3c43502f\n",
       " 0x67af83f5a29997e2\n",
       " 0x581afcc91b25d385\n",
       " 0xf592270c6f064111\n",
       " 0x26fe03a6950dc94e\n",
       "                  ⋮\n",
       " 0x675692b97a8a42a9\n",
       " 0x6909014f1e011b4d\n",
       " 0x374dcdd67ae7f908\n",
       " 0x0e019ba1cd4d848b\n",
       " 0xd60fdd304b8fb712\n",
       " 0x791b5b0cabcc49c7\n",
       " 0x92eebc29bc31673b\n",
       " 0x0d74c03df1e080aa\n",
       " 0xff766c9db369cde3\n",
       " 0xe6a8fcb1fb31dbfe\n",
       " 0xb474931908d8e344\n",
       " 0xf277b960fc3f0c07"
      ]
     },
     "execution_count": 34,
     "metadata": {},
     "output_type": "execute_result"
    }
   ],
   "source": [
    "@btime f.(x[1:8:end],x[2:8:end],x[3:8:end],x[4:8:end],\n",
    "    x[5:8:end], x[6:8:end], x[7:8:end], x[8:8:end])"
   ]
  },
  {
   "cell_type": "code",
   "execution_count": 41,
   "metadata": {},
   "outputs": [
    {
     "name": "stdout",
     "output_type": "stream",
     "text": [
      "  13.950 ms (44748 allocations: 1.79 MiB)\n"
     ]
    },
    {
     "data": {
      "text/plain": [
       "10000-element Array{UInt64,1}:\n",
       " 0x5e7a91c05db5fa0a\n",
       " 0x0000000000000000\n",
       " 0x00007f9616dbd000\n",
       " 0x0000000000000000\n",
       " 0x00007f9616dbd038\n",
       " 0x00007f9616dbd048\n",
       " 0x00007f9616dbd078\n",
       " 0x00007f9616dbd126\n",
       " 0x0000000100000000\n",
       " 0x00007f9616dbd120\n",
       " 0x0000000100000000\n",
       " 0x00007f9616dbd240\n",
       " 0x0000000100000000\n",
       "                  ⋮\n",
       " 0x0000000000000001\n",
       " 0x0000000000000000\n",
       " 0x0000000000000000\n",
       " 0x00007f9616dd07b0\n",
       " 0x00007f9616dd06f0\n",
       " 0x00007f9616dd0870\n",
       " 0x0000000000000001\n",
       " 0x00007f9616dd07b0\n",
       " 0xffffffffffffff58\n",
       " 0x0000000000000000\n",
       " 0x0000000000000000\n",
       " 0x00007f9616dd07b0"
      ]
     },
     "execution_count": 41,
     "metadata": {},
     "output_type": "execute_result"
    }
   ],
   "source": [
    "A = Array{UInt64}(N)\n",
    "z = 1\n",
    "@btime for i in 1:8:N \n",
    "    A[z] = bswap.(reinterpret(UInt64, x[i:i+8-1]))[1]\n",
    "end\n",
    "A"
   ]
  },
  {
   "cell_type": "code",
   "execution_count": 43,
   "metadata": {},
   "outputs": [
    {
     "data": {
      "text/plain": [
       "1×8 RowVector{UInt8,Array{UInt8,1}}:\n",
       " 0xc9  0xac  0xb8  0x31  0x44  0xfc  0xd2  0xcd"
      ]
     },
     "metadata": {},
     "output_type": "display_data"
    },
    {
     "data": {
      "text/plain": [
       "1-element Array{UInt64,1}:\n",
       " 0xc9acb83144fcd2cd"
      ]
     },
     "execution_count": 43,
     "metadata": {},
     "output_type": "execute_result"
    }
   ],
   "source": [
    "display(x[1:8]')\n",
    "bswap.(reinterpret(UInt64, x[1:8]))"
   ]
  },
  {
   "cell_type": "code",
   "execution_count": 88,
   "metadata": {
    "collapsed": true
   },
   "outputs": [],
   "source": [
    "N = 1_000_000\n",
    "x = rand(UInt8, 8 * N);"
   ]
  },
  {
   "cell_type": "code",
   "execution_count": 174,
   "metadata": {},
   "outputs": [
    {
     "name": "stdout",
     "output_type": "stream",
     "text": [
      " 14.248540 seconds (3.02 M allocations: 184.288 MiB, 94.52% gc time)\n"
     ]
    },
    {
     "data": {
      "text/plain": [
       "1000000-element Array{Float64,1}:\n",
       "  1.00233e145 \n",
       " -2.59206e-130\n",
       " -5.15168e-256\n",
       "  1.04767e47  \n",
       "  1.5293e122  \n",
       "  3.27014e256 \n",
       " -1.61632e-133\n",
       " -8.81354e293 \n",
       "  1.37967e-22 \n",
       " -1.0807e-61  \n",
       " -1.34795e-203\n",
       "  5.34665e-119\n",
       " -1.7347e-216 \n",
       "  ⋮           \n",
       "  4.17391e-86 \n",
       "  1.98012e-236\n",
       "  5.06044e8   \n",
       "  1.10956e281 \n",
       "  7.88792e272 \n",
       "  2.02462e-95 \n",
       "  1.44653e48  \n",
       " -1.55767e234 \n",
       "  4.79482e-52 \n",
       "  8.47259e28  \n",
       "  2.53801e266 \n",
       "  3.60777e104 "
      ]
     },
     "execution_count": 174,
     "metadata": {},
     "output_type": "execute_result"
    }
   ],
   "source": [
    "# orig implementation\n",
    "function convertfloat(bytes)\n",
    "    values = [bytes[i:i+8-1] for i in 1:8:length(bytes)]\n",
    "    convertedvalues = map(x -> reinterpret(Float64, x)[1], values)\n",
    "    convertedvalues\n",
    "end\n",
    "@time convertfloat(x)"
   ]
  },
  {
   "cell_type": "code",
   "execution_count": 145,
   "metadata": {},
   "outputs": [
    {
     "name": "stdout",
     "output_type": "stream",
     "text": [
      "  9.837314 seconds (3.03 M allocations: 184.436 MiB, 86.17% gc time)\n"
     ]
    },
    {
     "data": {
      "text/plain": [
       "1000000-element Array{Array{Float64,1},1}:\n",
       " [1.00233e145]  \n",
       " [-2.59206e-130]\n",
       " [-5.15168e-256]\n",
       " [1.04767e47]   \n",
       " [1.5293e122]   \n",
       " [3.27014e256]  \n",
       " [-1.61632e-133]\n",
       " [-8.81354e293] \n",
       " [1.37967e-22]  \n",
       " [-1.0807e-61]  \n",
       " [-1.34795e-203]\n",
       " [5.34665e-119] \n",
       " [-1.7347e-216] \n",
       " ⋮              \n",
       " [4.17391e-86]  \n",
       " [1.98012e-236] \n",
       " [5.06044e8]    \n",
       " [1.10956e281]  \n",
       " [7.88792e272]  \n",
       " [2.02462e-95]  \n",
       " [1.44653e48]   \n",
       " [-1.55767e234] \n",
       " [4.79482e-52]  \n",
       " [8.47259e28]   \n",
       " [2.53801e266]  \n",
       " [3.60777e104]  "
      ]
     },
     "execution_count": 145,
     "metadata": {},
     "output_type": "execute_result"
    }
   ],
   "source": [
    "reinterpretF64(v) = reinterpret(Float64, v)\n",
    "function convertfloat(bytes)\n",
    "    values = [bytes[i:i+8-1] for i in 1:8:length(bytes)]\n",
    "    reinterpretF64.(values)\n",
    "end\n",
    "@time convertfloat(x)"
   ]
  },
  {
   "cell_type": "code",
   "execution_count": 101,
   "metadata": {},
   "outputs": [
    {
     "name": "stdout",
     "output_type": "stream",
     "text": [
      "  7.080 μs (2 allocations: 78.20 KiB)\n",
      "  7.109 μs (2 allocations: 78.20 KiB)\n"
     ]
    }
   ],
   "source": [
    "reinterpretF64(v) = reinterpret(Float64, v)\n",
    "v = rand(UInt64, 10_000)\n",
    "@btime reinterpret.(Float64, $(v));\n",
    "@btime reinterpretF64.($(v));"
   ]
  },
  {
   "cell_type": "code",
   "execution_count": 104,
   "metadata": {},
   "outputs": [
    {
     "data": {
      "text/plain": [
       "1×32 RowVector{UInt8,Array{UInt8,1}}:\n",
       " 0x10  0xf4  0xac  0x8a  0xb6  0x6d  …  0x62  0x1e  0xda  0xbf  0xc7  0x75"
      ]
     },
     "execution_count": 104,
     "metadata": {},
     "output_type": "execute_result"
    }
   ],
   "source": [
    "v = rand(UInt8, 8 * 4);\n",
    "v'"
   ]
  },
  {
   "cell_type": "code",
   "execution_count": 120,
   "metadata": {},
   "outputs": [
    {
     "data": {
      "text/plain": [
       "4-element Array{Array{UInt8,1},1}:\n",
       " UInt8[0x10, 0xf4, 0xac, 0x8a, 0xb6, 0x6d, 0xff, 0xbe]\n",
       " UInt8[0x69, 0xd2, 0xe4, 0x85, 0x8d, 0xe1, 0x05, 0xe9]\n",
       " UInt8[0xfc, 0xcd, 0x4a, 0xda, 0xb3, 0x38, 0xff, 0xd7]\n",
       " UInt8[0x60, 0xdf, 0x62, 0x1e, 0xda, 0xbf, 0xc7, 0x75]"
      ]
     },
     "execution_count": 120,
     "metadata": {},
     "output_type": "execute_result"
    }
   ],
   "source": [
    "w = [v[i:i+8-1] for i in 1:8:length(v)]"
   ]
  },
  {
   "cell_type": "code",
   "execution_count": 124,
   "metadata": {},
   "outputs": [
    {
     "data": {
      "text/plain": [
       "4×8 Array{UInt64,2}:\n",
       " 0x0000000000000010  0x00000000000000f4  …  0x00000000000000be\n",
       " 0x0000000000000069  0x00000000000000d2     0x00000000000000e9\n",
       " 0x00000000000000fc  0x00000000000000cd     0x00000000000000d7\n",
       " 0x0000000000000060  0x00000000000000df     0x0000000000000075"
      ]
     },
     "execution_count": 124,
     "metadata": {},
     "output_type": "execute_result"
    }
   ],
   "source": [
    "w = UInt64.(reshape(v, (8,4)))'"
   ]
  },
  {
   "cell_type": "code",
   "execution_count": 125,
   "metadata": {},
   "outputs": [
    {
     "data": {
      "text/plain": [
       "4×8 Array{UInt64,2}:\n",
       " 0x0000000000000010  0x00000000000000f0  …  0x00000000000000b0\n",
       " 0x0000000000000060  0x00000000000000d0     0x00000000000000e0\n",
       " 0x00000000000000f0  0x00000000000000c0     0x00000000000000d0\n",
       " 0x0000000000000060  0x00000000000000d0     0x0000000000000070"
      ]
     },
     "execution_count": 125,
     "metadata": {},
     "output_type": "execute_result"
    }
   ],
   "source": [
    "map(x -> x & 0xf0, w)"
   ]
  },
  {
   "cell_type": "code",
   "execution_count": 153,
   "metadata": {},
   "outputs": [
    {
     "name": "stdout",
     "output_type": "stream",
     "text": [
      " 15.748656 seconds (133.47 k allocations: 181.569 MiB, 95.27% gc time)\n"
     ]
    },
    {
     "data": {
      "text/plain": [
       "1000000-element Array{Float64,1}:\n",
       "  4.41886e160 \n",
       "  2.38418e44  \n",
       " -2.26027e-159\n",
       " -3.01546e212 \n",
       "  1.57731e99  \n",
       "  5.64841e-64 \n",
       " -4.70443e-70 \n",
       " -6.6782e-301 \n",
       "  1.9059e-66  \n",
       "  2.0097e-61  \n",
       " -1.80226e-293\n",
       " -5.35467e-46 \n",
       "  2.85897e44  \n",
       "  ⋮           \n",
       " -6.91251e92  \n",
       "  1.1118e114  \n",
       "  8.1621e-245 \n",
       " -2.88532e19  \n",
       " -4.0852e147  \n",
       " -2.11412e-216\n",
       " -1.63707e-43 \n",
       " -2.00781e-223\n",
       " -2.96384e294 \n",
       " -1.09147e291 \n",
       " -9.43421e286 \n",
       "  4.29114e280 "
      ]
     },
     "execution_count": 153,
     "metadata": {},
     "output_type": "execute_result"
    }
   ],
   "source": [
    "function convertfloat(v) \n",
    "    w = \n",
    "        map(x -> x << 56, UInt64.(view(v, 1:8:length(v)))) +\n",
    "        map(x -> x << 48, UInt64.(view(v, 2:8:length(v)))) +\n",
    "        map(x -> x << 40, UInt64.(view(v, 3:8:length(v)))) +\n",
    "        map(x -> x << 32, UInt64.(view(v, 4:8:length(v)))) +\n",
    "        map(x -> x << 24, UInt64.(view(v, 5:8:length(v)))) +\n",
    "        map(x -> x << 16, UInt64.(view(v, 6:8:length(v)))) +\n",
    "        map(x -> x << 8, UInt64.(view(v, 7:8:length(v)))) +\n",
    "        UInt64.(view(v, 8:8:length(v)))\n",
    "    reinterpret.(Float64, w)\n",
    "end\n",
    "@time convertfloat(x)"
   ]
  },
  {
   "cell_type": "code",
   "execution_count": 179,
   "metadata": {},
   "outputs": [
    {
     "data": {
      "text/plain": [
       "convertfloat_orig (generic function with 1 method)"
      ]
     },
     "execution_count": 179,
     "metadata": {},
     "output_type": "execute_result"
    }
   ],
   "source": [
    "f(a,b,c,d,e,f,g,h) = (UInt64(a) << 56) | (UInt64(b) << 48) | \n",
    "    (UInt64(c) << 40) | (UInt64(d) << 32) | \n",
    "    (UInt64(e) << 24) | (UInt64(f) << 16) | \n",
    "    (UInt64(g) << 8) | UInt64(h)\n",
    "function convertfloat(x) \n",
    "    reinterpret.(Float64,\n",
    "        f.(x[1:8:end],x[2:8:end],x[3:8:end],x[4:8:end],\n",
    "            x[5:8:end], x[6:8:end], x[7:8:end], x[8:8:end]))\n",
    "end\n",
    "function convertfloatlittle(x) \n",
    "    v = reverse(x)\n",
    "    r = reinterpret.(Float64,\n",
    "        f.(x[1:8:end],x[2:8:end],x[3:8:end],x[4:8:end],\n",
    "            x[5:8:end], x[6:8:end], x[7:8:end], x[8:8:end]))\n",
    "    reverse(r)\n",
    "end\n",
    "function convertfloat_orig(bytes)\n",
    "    values = [bytes[i:i+8-1] for i in 1:8:length(bytes)]\n",
    "    convertedvalues = map(x -> reinterpret(Float64, x)[1], values)\n",
    "    convertedvalues\n",
    "end"
   ]
  },
  {
   "cell_type": "code",
   "execution_count": 180,
   "metadata": {},
   "outputs": [
    {
     "name": "stdout",
     "output_type": "stream",
     "text": [
      " 29.274079 seconds (3.02 M allocations: 184.297 MiB, 96.31% gc time)\n",
      "[1.00233e145, -2.59206e-130, -5.15168e-256, 1.04767e47, 1.5293e122, 3.27014e256, -1.61632e-133, -8.81354e293, 1.37967e-22, -1.0807e-61, -1.34795e-203, 5.34665e-119, -1.7347e-216, 1.28032e-11, 1.06889e217]\n",
      "  0.378573 seconds (94.15 k allocations: 34.231 MiB, 5.68% gc time)\n"
     ]
    },
    {
     "data": {
      "text/plain": [
       "5-element Array{Float64,1}:\n",
       "  4.29114e280 \n",
       " -9.43421e286 \n",
       " -1.09147e291 \n",
       " -2.96384e294 \n",
       " -2.00781e-223"
      ]
     },
     "execution_count": 180,
     "metadata": {},
     "output_type": "execute_result"
    }
   ],
   "source": [
    "@time r = convertfloat_orig(x);\n",
    "println(r[1:15])\n",
    "@time r =convertfloatlittle(x);\n",
    "r[1:5]"
   ]
  },
  {
   "cell_type": "code",
   "execution_count": 181,
   "metadata": {},
   "outputs": [
    {
     "data": {
      "text/plain": [
       "convertint64"
      ]
     },
     "execution_count": 181,
     "metadata": {},
     "output_type": "execute_result"
    }
   ],
   "source": [
    "# Version a.  Original implementation... slow.\n",
    "\"\"\"\n",
    "Byte swap is needed only if file the array represent a different endianness\n",
    "than the system.  This function does not make any assumption and the caller\n",
    "is expected to pass `true` to the `swap` argument when needed.\n",
    "\"\"\"\n",
    "function convertfloat64a(bytes::Vector{UInt8}, swap::Bool)\n",
    "    values = [bytes[i:i+8-1] for i in 1:8:length(bytes)]\n",
    "    values = map(x -> reinterpret(Float64, x)[1], values)\n",
    "    swap ? bswap.(values) : values\n",
    "end\n",
    "\n",
    "# Version b.  Should be a lot faster.  \n",
    "\"\"\"\n",
    "It turns out that `reinterpret` consider a single UInt64 as BigEndian \n",
    "Hence it's necessary to swap bytes if the array is in LittleEndian convention.\n",
    "This function does not make any assumption and the caller\n",
    "is expected to pass `true` to the `swap` argument when needed.\n",
    "\"\"\"\n",
    "function convertfloat64b(bytes::Vector{UInt8}, endianess::Symbol) \n",
    "    v = endianess == :LittleEndian ? reverse(bytes) : bytes\n",
    "    c = convertint64.(v[1:8:end],v[2:8:end],v[3:8:end],v[4:8:end],\n",
    "            v[5:8:end], v[6:8:end], v[7:8:end], v[8:8:end])\n",
    "    r = reinterpret.(Float64, c)\n",
    "    endianess == :LittleEndian ? reverse(r) : r\n",
    "end\n",
    "\n",
    "\"\"\"\n",
    "Take 8 bytes and convert them into a UInt64 type.  The order is preserved.\n",
    "\"\"\"\n",
    "function convertint64(a::UInt8,b::UInt8,c::UInt8,d::UInt8,e::UInt8,f::UInt8,g::UInt8,h::UInt8)\n",
    "    (UInt64(a) << 56) | (UInt64(b) << 48) | \n",
    "    (UInt64(c) << 40) | (UInt64(d) << 32) | \n",
    "    (UInt64(e) << 24) | (UInt64(f) << 16) | \n",
    "    (UInt64(g) << 8)  |  UInt64(h)\n",
    "end"
   ]
  },
  {
   "cell_type": "code",
   "execution_count": 184,
   "metadata": {},
   "outputs": [
    {
     "data": {
      "text/plain": [
       "3-element Array{Float64,1}:\n",
       "  1.00233e145 \n",
       " -2.59206e-130\n",
       " -5.15168e-256"
      ]
     },
     "metadata": {},
     "output_type": "display_data"
    },
    {
     "name": "stdout",
     "output_type": "stream",
     "text": [
      " 21.060591 seconds (3.00 M allocations: 183.106 MiB, 96.06% gc time)\n"
     ]
    }
   ],
   "source": [
    "@time z1 = convertfloat64a(x, false)\n",
    "display(z1[1:3])"
   ]
  },
  {
   "cell_type": "code",
   "execution_count": 185,
   "metadata": {},
   "outputs": [
    {
     "data": {
      "text/plain": [
       "3-element Array{Float64,1}:\n",
       "  1.00233e145 \n",
       " -2.59206e-130\n",
       " -5.15168e-256"
      ]
     },
     "metadata": {},
     "output_type": "display_data"
    },
    {
     "name": "stdout",
     "output_type": "stream",
     "text": [
      "  0.289733 seconds (44 allocations: 38.149 MiB, 16.56% gc time)\n"
     ]
    }
   ],
   "source": [
    "@time z2 = convertfloat64b(x, :LittleEndian)\n",
    "display(z2[1:3])"
   ]
  },
  {
   "cell_type": "code",
   "execution_count": null,
   "metadata": {
    "collapsed": true
   },
   "outputs": [],
   "source": []
  }
 ],
 "metadata": {
  "kernelspec": {
   "display_name": "Julia 0.6.1",
   "language": "julia",
   "name": "julia-0.6"
  },
  "language_info": {
   "file_extension": ".jl",
   "mimetype": "application/julia",
   "name": "julia",
   "version": "0.6.1"
  }
 },
 "nbformat": 4,
 "nbformat_minor": 2
}
